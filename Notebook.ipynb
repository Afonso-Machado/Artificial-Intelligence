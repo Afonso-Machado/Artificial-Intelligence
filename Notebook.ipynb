{
 "cells": [
  {
   "cell_type": "markdown",
   "id": "3cf85ef9-839a-4dae-bb39-5fc53fc6f13a",
   "metadata": {},
   "source": [
    "# Student Bag Price Prediction\n",
    "\n",
    "### Supervised Learning - Regression Problem\n",
    "#### Inteligência Artificial - Assignment 2"
   ]
  },
  {
   "cell_type": "code",
   "execution_count": 3,
   "id": "a26e221c-9230-4f7e-9940-c046d6163210",
   "metadata": {},
   "outputs": [
    {
     "name": "stdout",
     "output_type": "stream",
     "text": [
      "Everything works\n"
     ]
    }
   ],
   "source": [
    "import numpy\n",
    "import scipy\n",
    "import pandas\n",
    "import sklearn\n",
    "import matplotlib\n",
    "import seaborn\n",
    "\n",
    "print(\"Everything works\")"
   ]
  }
 ],
 "metadata": {
  "kernelspec": {
   "display_name": "Python 3 (ipykernel)",
   "language": "python",
   "name": "python3"
  },
  "language_info": {
   "codemirror_mode": {
    "name": "ipython",
    "version": 3
   },
   "file_extension": ".py",
   "mimetype": "text/x-python",
   "name": "python",
   "nbconvert_exporter": "python",
   "pygments_lexer": "ipython3",
   "version": "3.12.7"
  }
 },
 "nbformat": 4,
 "nbformat_minor": 5
}
